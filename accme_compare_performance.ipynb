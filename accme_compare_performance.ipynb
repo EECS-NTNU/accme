{
 "cells": [
  {
   "cell_type": "code",
   "execution_count": 24,
   "metadata": {},
   "outputs": [],
   "source": [
    "import os\n",
    "import numpy as np\n",
    "import pandas as pd\n",
    "import plotly.graph_objects as go\n",
    "\n",
    "from custom_functions import *"
   ]
  },
  {
   "cell_type": "markdown",
   "metadata": {},
   "source": [
    "## Choosing the best Accelerator for Matrix Decomposition"
   ]
  },
  {
   "cell_type": "code",
   "execution_count": 25,
   "metadata": {},
   "outputs": [],
   "source": [
    "dsa_accme_df = pd.read_csv('./data/cholesky/accme_dsa_parameters.csv')\n",
    "scm_accme_df = pd.read_csv('./data/cholesky/accme_scm_parameters.csv')\n",
    "ambit_accme_df = pd.read_csv('./data/cholesky/accme_ambit_parameters.csv')\n",
    "upmem_accme_df = pd.read_csv('./data/cholesky/accme_upmem_parameters.csv')"
   ]
  },
  {
   "cell_type": "code",
   "execution_count": 26,
   "metadata": {},
   "outputs": [],
   "source": [
    "# Accelerator Parameters\n",
    "dsa_frequency = 1200000000\n",
    "scm_frequency = 1000000000\n",
    "ambit_frequency = 1200000000\n",
    "upmem_frequency = 350000000\n",
    "device_frequencies = [dsa_frequency,scm_frequency,ambit_frequency,upmem_frequency]"
   ]
  },
  {
   "cell_type": "code",
   "execution_count": 27,
   "metadata": {},
   "outputs": [],
   "source": [
    "dsa_accme_df = generate_accme_cycles_column(dsa_accme_df)\n",
    "scm_accme_df = generate_accme_cycles_column(scm_accme_df)\n",
    "ambit_accme_df = generate_accme_cycles_column(ambit_accme_df)\n",
    "upmem_accme_df = generate_accme_cycles_column(upmem_accme_df)\n",
    "accme_dfs = [dsa_accme_df,scm_accme_df,ambit_accme_df,upmem_accme_df]"
   ]
  },
  {
   "cell_type": "markdown",
   "metadata": {},
   "source": [
    "## Graph  AIO Uncertainty"
   ]
  },
  {
   "cell_type": "code",
   "execution_count": 28,
   "metadata": {},
   "outputs": [
    {
     "data": {
      "application/vnd.plotly.v1+json": {
       "config": {
        "plotlyServerURL": "https://plot.ly"
       },
       "data": [
        {
         "fill": "none",
         "line": {
          "color": "blue",
          "dash": "dash",
          "width": 2
         },
         "mode": "lines",
         "name": "DSA",
         "opacity": 0.8,
         "showlegend": false,
         "type": "scatter",
         "x": [
          16,
          24,
          32,
          48,
          64,
          96,
          128,
          192,
          256,
          384,
          512
         ],
         "y": [
          15255045.2884157,
          8683591.629982512,
          6878761.8228718825,
          4164738.546968996,
          2863684.1595012415,
          1638262.5315706842,
          1076969.676572544,
          576186.6844857733,
          360996.151959638,
          181089.82118008946,
          108881.21994601874
         ]
        },
        {
         "fill": "tonexty",
         "fillcolor": "rgba(0, 0, 255, 0.2)",
         "line": {
          "color": "blue",
          "dash": "dash",
          "width": 2
         },
         "mode": "lines",
         "name": "DSA±5X AIO Latency",
         "opacity": 0.8,
         "type": "scatter",
         "x": [
          16,
          24,
          32,
          48,
          64,
          96,
          128,
          192,
          256,
          384,
          512
         ],
         "y": [
          610201.811536628,
          347343.6651993005,
          275150.4729148753,
          166589.54187875983,
          114547.36638004966,
          65530.50126282737,
          43078.787062901756,
          23047.467379430935,
          14439.84607838552,
          7243.5928472035785,
          4355.24879784075
         ]
        },
        {
         "fill": "none",
         "line": {
          "color": "blue",
          "width": 2
         },
         "mode": "lines",
         "name": "DSA",
         "opacity": 0.8,
         "showlegend": false,
         "type": "scatter",
         "x": [
          16,
          24,
          32,
          48,
          64,
          96,
          128,
          192,
          256,
          384,
          512
         ],
         "y": [
          3051009.05768314,
          1736718.3259965025,
          1375752.3645743765,
          832947.7093937992,
          572736.8319002483,
          327652.50631413684,
          215393.9353145088,
          115237.33689715467,
          72199.2303919276,
          36217.96423601789,
          21776.243989203747
         ]
        },
        {
         "fill": "none",
         "line": {
          "color": "green",
          "dash": "dash",
          "width": 2
         },
         "mode": "lines",
         "name": "DSA",
         "opacity": 0.8,
         "showlegend": false,
         "type": "scatter",
         "x": [
          16,
          24,
          32,
          48,
          64,
          96,
          128,
          192,
          256,
          384,
          512
         ],
         "y": [
          4411724.1569470875,
          2855748.979664687,
          2219170.862286578,
          1445138.9139781063,
          1051384.7887620109,
          657784.5200691086,
          463407.4640460975,
          274761.12954300357,
          185419.1588401916,
          102895.72140297458,
          66050.14020948319
         ]
        },
        {
         "fill": "tonexty",
         "fillcolor": "rgba(0, 0, 255, 0.2)",
         "line": {
          "color": "green",
          "dash": "dash",
          "width": 2
         },
         "mode": "lines",
         "name": "SCM±5X AIO Latency",
         "opacity": 0.8,
         "type": "scatter",
         "x": [
          16,
          24,
          32,
          48,
          64,
          96,
          128,
          192,
          256,
          384,
          512
         ],
         "y": [
          176468.96627788348,
          114229.95918658748,
          88766.83449146312,
          57805.55655912425,
          42055.39155048043,
          26311.380802764343,
          18536.298561843898,
          10990.445181720143,
          7416.766353607663,
          4115.828856118983,
          2642.005608379327
         ]
        },
        {
         "fill": "none",
         "line": {
          "color": "green",
          "width": 2
         },
         "mode": "lines",
         "name": "DSA",
         "opacity": 0.8,
         "showlegend": false,
         "type": "scatter",
         "x": [
          16,
          24,
          32,
          48,
          64,
          96,
          128,
          192,
          256,
          384,
          512
         ],
         "y": [
          882344.8313894174,
          571149.7959329374,
          443834.1724573156,
          289027.78279562126,
          210276.95775240217,
          131556.9040138217,
          92681.49280921949,
          54952.22590860071,
          37083.83176803832,
          20579.144280594915,
          13210.028041896636
         ]
        },
        {
         "fill": "none",
         "line": {
          "color": "red",
          "dash": "dash",
          "width": 2
         },
         "mode": "lines",
         "name": "DSA",
         "opacity": 0.8,
         "showlegend": false,
         "type": "scatter",
         "x": [
          16,
          24,
          32,
          48,
          64,
          96,
          128,
          192,
          256,
          384,
          512
         ],
         "y": [
          6465.021740655921,
          4301.666169734606,
          3224.191051724572,
          2148.562214990984,
          1611.2177071953279,
          1074.0682019211074,
          805.5388972046212,
          537.0251377537189,
          402.77063011050296,
          268.51585981094263,
          201.38794409031107
         ]
        },
        {
         "fill": "tonexty",
         "fillcolor": "rgba(255, 0, 0, 0.2)",
         "line": {
          "color": "red",
          "dash": "dash",
          "width": 2
         },
         "mode": "lines",
         "name": "AMBIT±5X AIO Latency",
         "opacity": 0.8,
         "type": "scatter",
         "x": [
          16,
          24,
          32,
          48,
          64,
          96,
          128,
          192,
          256,
          384,
          512
         ],
         "y": [
          258.6008696262369,
          172.06664678938427,
          128.96764206898288,
          85.94248859963936,
          64.4487082878131,
          42.9627280768443,
          32.22155588818485,
          21.481005510148755,
          16.110825204420117,
          10.740634392437704,
          8.055517763612443
         ]
        },
        {
         "fill": "none",
         "line": {
          "color": "red",
          "width": 2
         },
         "mode": "lines",
         "name": "DSA",
         "opacity": 0.8,
         "showlegend": false,
         "type": "scatter",
         "x": [
          16,
          24,
          32,
          48,
          64,
          96,
          128,
          192,
          256,
          384,
          512
         ],
         "y": [
          1293.0043481311843,
          860.3332339469213,
          644.8382103449144,
          429.7124429981968,
          322.24354143906555,
          214.8136403842215,
          161.10777944092425,
          107.40502755074378,
          80.55412602210059,
          53.70317196218852,
          40.27758881806221
         ]
        },
        {
         "fill": "none",
         "line": {
          "color": "orange",
          "dash": "dash",
          "width": 2
         },
         "mode": "lines",
         "name": "DSA",
         "opacity": 0.8,
         "showlegend": false,
         "type": "scatter",
         "x": [
          16,
          24,
          32,
          48,
          64,
          96,
          128,
          192,
          256,
          384,
          512
         ],
         "y": [
          11023622.047244094,
          9990485.252140818,
          10181818.181818182,
          7304347.826086957,
          6674612.6340882005,
          4732394.366863716,
          3111283.9602200123,
          1633129.1922636887,
          585973.2649697857,
          275163.09145733254,
          159183.72858037252
         ]
        },
        {
         "fill": "tonexty",
         "fillcolor": "rgba(250, 200, 0, 0.2)",
         "line": {
          "color": "orange",
          "dash": "dash",
          "width": 2
         },
         "mode": "lines",
         "name": "UPMEM±5X AIO Latency",
         "opacity": 0.8,
         "type": "scatter",
         "x": [
          16,
          24,
          32,
          48,
          64,
          96,
          128,
          192,
          256,
          384,
          512
         ],
         "y": [
          440944.88188976375,
          399619.4100856327,
          407272.72727272724,
          292173.9130434783,
          266984.50536352803,
          189295.77467454868,
          124451.35840880049,
          65325.16769054755,
          23438.93059879143,
          11006.523658293301,
          6367.3491432149
         ]
        },
        {
         "fill": "none",
         "line": {
          "color": "orange",
          "width": 2
         },
         "mode": "lines",
         "name": "DSA",
         "opacity": 0.8,
         "showlegend": false,
         "type": "scatter",
         "x": [
          16,
          24,
          32,
          48,
          64,
          96,
          128,
          192,
          256,
          384,
          512
         ],
         "y": [
          2204724.409448819,
          1998097.0504281635,
          2036363.6363636362,
          1460869.5652173914,
          1334922.52681764,
          946478.8733727434,
          622256.7920440024,
          326625.8384527377,
          117194.65299395715,
          55032.618291466504,
          31836.745716074503
         ]
        }
       ],
       "layout": {
        "annotations": [
         {
          "font": {
           "size": 24
          },
          "showarrow": false,
          "text": "Matrix Size",
          "x": 0.5,
          "xref": "paper",
          "y": -0.35,
          "yref": "paper"
         },
         {
          "font": {
           "size": 24
          },
          "showarrow": false,
          "text": "AIOs / Sec",
          "textangle": -90,
          "x": -0.17,
          "xref": "paper",
          "y": 0.5,
          "yref": "paper"
         }
        ],
        "autosize": false,
        "height": 380,
        "legend": {
         "entrywidth": 200,
         "font": {
          "size": 18
         },
         "itemwidth": 30,
         "orientation": "h",
         "traceorder": "normal",
         "x": -0.05,
         "xanchor": "left",
         "y": 1.02,
         "yanchor": "bottom"
        },
        "template": {
         "data": {
          "bar": [
           {
            "error_x": {
             "color": "#2a3f5f"
            },
            "error_y": {
             "color": "#2a3f5f"
            },
            "marker": {
             "line": {
              "color": "#E5ECF6",
              "width": 0.5
             },
             "pattern": {
              "fillmode": "overlay",
              "size": 10,
              "solidity": 0.2
             }
            },
            "type": "bar"
           }
          ],
          "barpolar": [
           {
            "marker": {
             "line": {
              "color": "#E5ECF6",
              "width": 0.5
             },
             "pattern": {
              "fillmode": "overlay",
              "size": 10,
              "solidity": 0.2
             }
            },
            "type": "barpolar"
           }
          ],
          "carpet": [
           {
            "aaxis": {
             "endlinecolor": "#2a3f5f",
             "gridcolor": "white",
             "linecolor": "white",
             "minorgridcolor": "white",
             "startlinecolor": "#2a3f5f"
            },
            "baxis": {
             "endlinecolor": "#2a3f5f",
             "gridcolor": "white",
             "linecolor": "white",
             "minorgridcolor": "white",
             "startlinecolor": "#2a3f5f"
            },
            "type": "carpet"
           }
          ],
          "choropleth": [
           {
            "colorbar": {
             "outlinewidth": 0,
             "ticks": ""
            },
            "type": "choropleth"
           }
          ],
          "contour": [
           {
            "colorbar": {
             "outlinewidth": 0,
             "ticks": ""
            },
            "colorscale": [
             [
              0,
              "#0d0887"
             ],
             [
              0.1111111111111111,
              "#46039f"
             ],
             [
              0.2222222222222222,
              "#7201a8"
             ],
             [
              0.3333333333333333,
              "#9c179e"
             ],
             [
              0.4444444444444444,
              "#bd3786"
             ],
             [
              0.5555555555555556,
              "#d8576b"
             ],
             [
              0.6666666666666666,
              "#ed7953"
             ],
             [
              0.7777777777777778,
              "#fb9f3a"
             ],
             [
              0.8888888888888888,
              "#fdca26"
             ],
             [
              1,
              "#f0f921"
             ]
            ],
            "type": "contour"
           }
          ],
          "contourcarpet": [
           {
            "colorbar": {
             "outlinewidth": 0,
             "ticks": ""
            },
            "type": "contourcarpet"
           }
          ],
          "heatmap": [
           {
            "colorbar": {
             "outlinewidth": 0,
             "ticks": ""
            },
            "colorscale": [
             [
              0,
              "#0d0887"
             ],
             [
              0.1111111111111111,
              "#46039f"
             ],
             [
              0.2222222222222222,
              "#7201a8"
             ],
             [
              0.3333333333333333,
              "#9c179e"
             ],
             [
              0.4444444444444444,
              "#bd3786"
             ],
             [
              0.5555555555555556,
              "#d8576b"
             ],
             [
              0.6666666666666666,
              "#ed7953"
             ],
             [
              0.7777777777777778,
              "#fb9f3a"
             ],
             [
              0.8888888888888888,
              "#fdca26"
             ],
             [
              1,
              "#f0f921"
             ]
            ],
            "type": "heatmap"
           }
          ],
          "heatmapgl": [
           {
            "colorbar": {
             "outlinewidth": 0,
             "ticks": ""
            },
            "colorscale": [
             [
              0,
              "#0d0887"
             ],
             [
              0.1111111111111111,
              "#46039f"
             ],
             [
              0.2222222222222222,
              "#7201a8"
             ],
             [
              0.3333333333333333,
              "#9c179e"
             ],
             [
              0.4444444444444444,
              "#bd3786"
             ],
             [
              0.5555555555555556,
              "#d8576b"
             ],
             [
              0.6666666666666666,
              "#ed7953"
             ],
             [
              0.7777777777777778,
              "#fb9f3a"
             ],
             [
              0.8888888888888888,
              "#fdca26"
             ],
             [
              1,
              "#f0f921"
             ]
            ],
            "type": "heatmapgl"
           }
          ],
          "histogram": [
           {
            "marker": {
             "pattern": {
              "fillmode": "overlay",
              "size": 10,
              "solidity": 0.2
             }
            },
            "type": "histogram"
           }
          ],
          "histogram2d": [
           {
            "colorbar": {
             "outlinewidth": 0,
             "ticks": ""
            },
            "colorscale": [
             [
              0,
              "#0d0887"
             ],
             [
              0.1111111111111111,
              "#46039f"
             ],
             [
              0.2222222222222222,
              "#7201a8"
             ],
             [
              0.3333333333333333,
              "#9c179e"
             ],
             [
              0.4444444444444444,
              "#bd3786"
             ],
             [
              0.5555555555555556,
              "#d8576b"
             ],
             [
              0.6666666666666666,
              "#ed7953"
             ],
             [
              0.7777777777777778,
              "#fb9f3a"
             ],
             [
              0.8888888888888888,
              "#fdca26"
             ],
             [
              1,
              "#f0f921"
             ]
            ],
            "type": "histogram2d"
           }
          ],
          "histogram2dcontour": [
           {
            "colorbar": {
             "outlinewidth": 0,
             "ticks": ""
            },
            "colorscale": [
             [
              0,
              "#0d0887"
             ],
             [
              0.1111111111111111,
              "#46039f"
             ],
             [
              0.2222222222222222,
              "#7201a8"
             ],
             [
              0.3333333333333333,
              "#9c179e"
             ],
             [
              0.4444444444444444,
              "#bd3786"
             ],
             [
              0.5555555555555556,
              "#d8576b"
             ],
             [
              0.6666666666666666,
              "#ed7953"
             ],
             [
              0.7777777777777778,
              "#fb9f3a"
             ],
             [
              0.8888888888888888,
              "#fdca26"
             ],
             [
              1,
              "#f0f921"
             ]
            ],
            "type": "histogram2dcontour"
           }
          ],
          "mesh3d": [
           {
            "colorbar": {
             "outlinewidth": 0,
             "ticks": ""
            },
            "type": "mesh3d"
           }
          ],
          "parcoords": [
           {
            "line": {
             "colorbar": {
              "outlinewidth": 0,
              "ticks": ""
             }
            },
            "type": "parcoords"
           }
          ],
          "pie": [
           {
            "automargin": true,
            "type": "pie"
           }
          ],
          "scatter": [
           {
            "fillpattern": {
             "fillmode": "overlay",
             "size": 10,
             "solidity": 0.2
            },
            "type": "scatter"
           }
          ],
          "scatter3d": [
           {
            "line": {
             "colorbar": {
              "outlinewidth": 0,
              "ticks": ""
             }
            },
            "marker": {
             "colorbar": {
              "outlinewidth": 0,
              "ticks": ""
             }
            },
            "type": "scatter3d"
           }
          ],
          "scattercarpet": [
           {
            "marker": {
             "colorbar": {
              "outlinewidth": 0,
              "ticks": ""
             }
            },
            "type": "scattercarpet"
           }
          ],
          "scattergeo": [
           {
            "marker": {
             "colorbar": {
              "outlinewidth": 0,
              "ticks": ""
             }
            },
            "type": "scattergeo"
           }
          ],
          "scattergl": [
           {
            "marker": {
             "colorbar": {
              "outlinewidth": 0,
              "ticks": ""
             }
            },
            "type": "scattergl"
           }
          ],
          "scattermapbox": [
           {
            "marker": {
             "colorbar": {
              "outlinewidth": 0,
              "ticks": ""
             }
            },
            "type": "scattermapbox"
           }
          ],
          "scatterpolar": [
           {
            "marker": {
             "colorbar": {
              "outlinewidth": 0,
              "ticks": ""
             }
            },
            "type": "scatterpolar"
           }
          ],
          "scatterpolargl": [
           {
            "marker": {
             "colorbar": {
              "outlinewidth": 0,
              "ticks": ""
             }
            },
            "type": "scatterpolargl"
           }
          ],
          "scatterternary": [
           {
            "marker": {
             "colorbar": {
              "outlinewidth": 0,
              "ticks": ""
             }
            },
            "type": "scatterternary"
           }
          ],
          "surface": [
           {
            "colorbar": {
             "outlinewidth": 0,
             "ticks": ""
            },
            "colorscale": [
             [
              0,
              "#0d0887"
             ],
             [
              0.1111111111111111,
              "#46039f"
             ],
             [
              0.2222222222222222,
              "#7201a8"
             ],
             [
              0.3333333333333333,
              "#9c179e"
             ],
             [
              0.4444444444444444,
              "#bd3786"
             ],
             [
              0.5555555555555556,
              "#d8576b"
             ],
             [
              0.6666666666666666,
              "#ed7953"
             ],
             [
              0.7777777777777778,
              "#fb9f3a"
             ],
             [
              0.8888888888888888,
              "#fdca26"
             ],
             [
              1,
              "#f0f921"
             ]
            ],
            "type": "surface"
           }
          ],
          "table": [
           {
            "cells": {
             "fill": {
              "color": "#EBF0F8"
             },
             "line": {
              "color": "white"
             }
            },
            "header": {
             "fill": {
              "color": "#C8D4E3"
             },
             "line": {
              "color": "white"
             }
            },
            "type": "table"
           }
          ]
         },
         "layout": {
          "annotationdefaults": {
           "arrowcolor": "#2a3f5f",
           "arrowhead": 0,
           "arrowwidth": 1
          },
          "autotypenumbers": "strict",
          "coloraxis": {
           "colorbar": {
            "outlinewidth": 0,
            "ticks": ""
           }
          },
          "colorscale": {
           "diverging": [
            [
             0,
             "#8e0152"
            ],
            [
             0.1,
             "#c51b7d"
            ],
            [
             0.2,
             "#de77ae"
            ],
            [
             0.3,
             "#f1b6da"
            ],
            [
             0.4,
             "#fde0ef"
            ],
            [
             0.5,
             "#f7f7f7"
            ],
            [
             0.6,
             "#e6f5d0"
            ],
            [
             0.7,
             "#b8e186"
            ],
            [
             0.8,
             "#7fbc41"
            ],
            [
             0.9,
             "#4d9221"
            ],
            [
             1,
             "#276419"
            ]
           ],
           "sequential": [
            [
             0,
             "#0d0887"
            ],
            [
             0.1111111111111111,
             "#46039f"
            ],
            [
             0.2222222222222222,
             "#7201a8"
            ],
            [
             0.3333333333333333,
             "#9c179e"
            ],
            [
             0.4444444444444444,
             "#bd3786"
            ],
            [
             0.5555555555555556,
             "#d8576b"
            ],
            [
             0.6666666666666666,
             "#ed7953"
            ],
            [
             0.7777777777777778,
             "#fb9f3a"
            ],
            [
             0.8888888888888888,
             "#fdca26"
            ],
            [
             1,
             "#f0f921"
            ]
           ],
           "sequentialminus": [
            [
             0,
             "#0d0887"
            ],
            [
             0.1111111111111111,
             "#46039f"
            ],
            [
             0.2222222222222222,
             "#7201a8"
            ],
            [
             0.3333333333333333,
             "#9c179e"
            ],
            [
             0.4444444444444444,
             "#bd3786"
            ],
            [
             0.5555555555555556,
             "#d8576b"
            ],
            [
             0.6666666666666666,
             "#ed7953"
            ],
            [
             0.7777777777777778,
             "#fb9f3a"
            ],
            [
             0.8888888888888888,
             "#fdca26"
            ],
            [
             1,
             "#f0f921"
            ]
           ]
          },
          "colorway": [
           "#636efa",
           "#EF553B",
           "#00cc96",
           "#ab63fa",
           "#FFA15A",
           "#19d3f3",
           "#FF6692",
           "#B6E880",
           "#FF97FF",
           "#FECB52"
          ],
          "font": {
           "color": "#2a3f5f"
          },
          "geo": {
           "bgcolor": "white",
           "lakecolor": "white",
           "landcolor": "#E5ECF6",
           "showlakes": true,
           "showland": true,
           "subunitcolor": "white"
          },
          "hoverlabel": {
           "align": "left"
          },
          "hovermode": "closest",
          "mapbox": {
           "style": "light"
          },
          "paper_bgcolor": "white",
          "plot_bgcolor": "#E5ECF6",
          "polar": {
           "angularaxis": {
            "gridcolor": "white",
            "linecolor": "white",
            "ticks": ""
           },
           "bgcolor": "#E5ECF6",
           "radialaxis": {
            "gridcolor": "white",
            "linecolor": "white",
            "ticks": ""
           }
          },
          "scene": {
           "xaxis": {
            "backgroundcolor": "#E5ECF6",
            "gridcolor": "white",
            "gridwidth": 2,
            "linecolor": "white",
            "showbackground": true,
            "ticks": "",
            "zerolinecolor": "white"
           },
           "yaxis": {
            "backgroundcolor": "#E5ECF6",
            "gridcolor": "white",
            "gridwidth": 2,
            "linecolor": "white",
            "showbackground": true,
            "ticks": "",
            "zerolinecolor": "white"
           },
           "zaxis": {
            "backgroundcolor": "#E5ECF6",
            "gridcolor": "white",
            "gridwidth": 2,
            "linecolor": "white",
            "showbackground": true,
            "ticks": "",
            "zerolinecolor": "white"
           }
          },
          "shapedefaults": {
           "line": {
            "color": "#2a3f5f"
           }
          },
          "ternary": {
           "aaxis": {
            "gridcolor": "white",
            "linecolor": "white",
            "ticks": ""
           },
           "baxis": {
            "gridcolor": "white",
            "linecolor": "white",
            "ticks": ""
           },
           "bgcolor": "#E5ECF6",
           "caxis": {
            "gridcolor": "white",
            "linecolor": "white",
            "ticks": ""
           }
          },
          "title": {
           "x": 0.05
          },
          "xaxis": {
           "automargin": true,
           "gridcolor": "white",
           "linecolor": "white",
           "ticks": "",
           "title": {
            "standoff": 15
           },
           "zerolinecolor": "white",
           "zerolinewidth": 2
          },
          "yaxis": {
           "automargin": true,
           "gridcolor": "white",
           "linecolor": "white",
           "ticks": "",
           "title": {
            "standoff": 15
           },
           "zerolinecolor": "white",
           "zerolinewidth": 2
          }
         }
        },
        "width": 600,
        "xaxis": {
         "tickfont": {
          "size": 16
         },
         "tickvals": [
          1,
          2,
          4,
          8,
          16,
          32,
          64,
          128,
          256,
          512,
          1024,
          2048
         ],
         "type": "log"
        },
        "yaxis": {
         "dtick": 1,
         "tickfont": {
          "size": 16
         },
         "type": "log"
        }
       }
      }
     },
     "metadata": {},
     "output_type": "display_data"
    }
   ],
   "source": [
    "def graph_cholesky_comparison(input_dfs, frequencies, aio_uncertainty):\n",
    "    \n",
    "    # Some Appearence Settings\n",
    "    names = ['DSA','SCM','AMBIT','UPMEM']\n",
    "    line_colors = ['blue','green','red','orange']\n",
    "    fill_colors = ['rgba(0, 0, 255, 0.2)','rgba(0, 0, 255, 0.2)','rgba(255, 0, 0, 0.2)','rgba(250, 200, 0, 0.2)']\n",
    "    color_opacity = 0.8\n",
    "    line_thickness = 2\n",
    "    axis_title_size = 24\n",
    "    tick_label_size = 16\n",
    "    legend_text_size = 18\n",
    "\n",
    "    # Graph Performance Data\n",
    "    fig = go.Figure()\n",
    "    for i in range(len(input_dfs)):\n",
    "        calculate_cycle_uncertainty_from_aio(input_dfs[i], aio_uncertainty, frequencies[i])\n",
    "        fig.add_trace(go.Scatter(x=input_dfs[i]['Matrix Size'], y=input_dfs[i]['AIOs/Sec Upper'], fill='none', mode='lines', line = dict(color=line_colors[i], width=line_thickness, dash='dash'), opacity=color_opacity, name='DSA', showlegend=False))\n",
    "        fig.add_trace(go.Scatter(x=input_dfs[i]['Matrix Size'], y=input_dfs[i]['AIOs/Sec Lower'], fill='tonexty', mode='lines', fillcolor=fill_colors[i], line = dict(color=line_colors[i], width=line_thickness, dash='dash'), opacity=color_opacity, name=(names[i]+'\\u00B1'+str(aio_uncertainty)+'X AIO Latency')))\n",
    "        fig.add_trace(go.Scatter(x=input_dfs[i]['Matrix Size'], y=input_dfs[i]['AIOs/Sec'], fill='none', mode='lines', line = dict(color=line_colors[i], width=line_thickness), opacity=color_opacity, name='DSA', showlegend=False))\n",
    "\n",
    "\n",
    "    # Format Appearence\n",
    "    fig.add_annotation(xref=\"paper\", yref=\"paper\", x=0.5, y=-0.35, text=\"Matrix Size\", showarrow=False,\n",
    "        font=dict(\n",
    "            size=axis_title_size\n",
    "        ),\n",
    "    )\n",
    "    fig.add_annotation(xref=\"paper\", yref=\"paper\", x=-0.17, y=0.5, text=\"AIOs / Sec\", showarrow=False, textangle=-90,\n",
    "        font=dict(\n",
    "            size=axis_title_size\n",
    "        ),\n",
    "    )\n",
    "    fig.update_layout(\n",
    "        legend=dict(\n",
    "            orientation=\"h\",\n",
    "            yanchor=\"bottom\",\n",
    "            entrywidth=200,\n",
    "            y=1.02,\n",
    "            xanchor=\"left\",\n",
    "            x=-0.05,\n",
    "            itemwidth=30,\n",
    "            font=dict(size=legend_text_size),\n",
    "            traceorder='normal'\n",
    "            ),\n",
    "        autosize=False,\n",
    "        width=600,\n",
    "        height=380,\n",
    "    )\n",
    "    fig.update_xaxes(type=\"log\",tickvals=[2**i for i in range(12)])\n",
    "    fig.update_yaxes(type=\"log\", dtick=1)\n",
    "\n",
    "    fig.update_layout(\n",
    "        xaxis=dict(\n",
    "            tickfont=dict(\n",
    "                size=tick_label_size  # Set the tick font size for the x-axis\n",
    "            )\n",
    "        ),\n",
    "        yaxis=dict(\n",
    "            tickfont=dict(\n",
    "                size=tick_label_size  # Set the tick font size for the y-axis\n",
    "            )\n",
    "        )\n",
    "    )\n",
    "    fig.show()\n",
    "\n",
    "\n",
    "graph_cholesky_comparison(input_dfs=accme_dfs, frequencies=device_frequencies, aio_uncertainty=5)"
   ]
  },
  {
   "cell_type": "code",
   "execution_count": null,
   "metadata": {},
   "outputs": [],
   "source": []
  }
 ],
 "metadata": {
  "kernelspec": {
   "display_name": "accme",
   "language": "python",
   "name": "python3"
  },
  "language_info": {
   "codemirror_mode": {
    "name": "ipython",
    "version": 3
   },
   "file_extension": ".py",
   "mimetype": "text/x-python",
   "name": "python",
   "nbconvert_exporter": "python",
   "pygments_lexer": "ipython3",
   "version": "3.12.3"
  }
 },
 "nbformat": 4,
 "nbformat_minor": 2
}
