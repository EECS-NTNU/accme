{
 "cells": [
  {
   "cell_type": "code",
   "execution_count": 1,
   "metadata": {},
   "outputs": [],
   "source": [
    "from custom_functions import *"
   ]
  },
  {
   "cell_type": "code",
   "execution_count": 2,
   "metadata": {},
   "outputs": [],
   "source": [
    "dsa_accme_df = pd.read_csv('./data/energy_analysis/dsa_conv_accme_parameters.csv')\n",
    "dsa_accme_df = generate_accme_cycles_column(dsa_accme_df)"
   ]
  },
  {
   "cell_type": "code",
   "execution_count": 3,
   "metadata": {},
   "outputs": [],
   "source": [
    "def plot_aio_energy_efficiency(core_dpower, core_spower, mem_dpower, mem_spower):\n",
    "    \n",
    "    linewidth = 4\n",
    "    accme_alpha = 0.6\n",
    "\n",
    "    # Figure properties\n",
    "    fig, (ax1) = plt.subplots(1, 1)\n",
    "    \n",
    "    frequency_scaling = 1000000\n",
    "    core_min = 1\n",
    "    core_max = 128\n",
    "    cores_array = np.linspace(core_min,core_max,core_max)\n",
    "    x = cores_array\n",
    "\n",
    "    config_choices = [20,21,22,23]\n",
    "    for i in range(len(config_choices)):\n",
    "        y = get_accme_ee_range(dsa_accme_df, cores_array, 1200, core_dpower, core_spower, mem_dpower, mem_spower, config_choices[i])\n",
    "        ax1.plot(x, np.asarray(y)/frequency_scaling, linestyle='-', linewidth=linewidth, alpha=accme_alpha)\n",
    "\n",
    "    x_fontsize = 16\n",
    "    y_fontsize = 16\n",
    "    titlesize = 16\n",
    "    tick_size = 16\n",
    "    legendsize = 16\n",
    "    subtitle_offset = -0.55\n",
    "\n",
    "    print(\"hello\")\n",
    "    print(str(dsa_accme_df['Image Pixels'][config_choices[0]]))\n",
    "    fig.legend(\n",
    "                    [\n",
    "                    'Pixels: '+str(dsa_accme_df['Image Pixels'][config_choices[0]])+', KernelSize: '+str(dsa_accme_df['Kernel Size'][config_choices[0]]),\n",
    "                    'Pixels: '+str(dsa_accme_df['Image Pixels'][config_choices[0]])+', KernelSize: '+str(dsa_accme_df['Kernel Size'][config_choices[1]]),\n",
    "                    'Pixels: '+str(dsa_accme_df['Image Pixels'][config_choices[0]])+', KernelSize: '+str(dsa_accme_df['Kernel Size'][config_choices[2]]),\n",
    "                    'Pixels: '+str(dsa_accme_df['Image Pixels'][config_choices[0]])+', KernelSize: '+str(dsa_accme_df['Kernel Size'][config_choices[3]]),\n",
    "                   ],\n",
    "                bbox_to_anchor=(0.49, 1.1), loc='center', borderaxespad=0,\n",
    "                fontsize = legendsize,\n",
    "                ncol = 2,\n",
    "                #facecolor=background_color\n",
    "        \n",
    "    )\n",
    "    fig.set_figwidth(5)\n",
    "    fig.set_figheight(3)\n",
    "    ax1.set_xlabel('Core Count', fontsize = x_fontsize) # X label\n",
    "    ax1.set_ylabel('AIOs/ Joule', fontsize = y_fontsize) # X label\n",
    "    ax1.tick_params(axis='both', which='major', labelsize=tick_size)\n",
    "    ax1.set_title(\"Convolution\", fontsize = titlesize , y=subtitle_offset, fontweight=\"bold\")\n",
    "    ax1.yaxis.offsetText.set_size(tick_size)\n",
    "    \n",
    "    ax1.grid()\n",
    "    plt.show()\n"
   ]
  },
  {
   "cell_type": "code",
   "execution_count": 5,
   "metadata": {},
   "outputs": [
    {
     "data": {
      "application/vnd.jupyter.widget-view+json": {
       "model_id": "0beccb568b2f4c40bf39182a881a07d3",
       "version_major": 2,
       "version_minor": 0
      },
      "text/plain": [
       "interactive(children=(FloatSlider(value=0.5, description='core_dpower', max=2.0), FloatSlider(value=0.2, descr…"
      ]
     },
     "metadata": {},
     "output_type": "display_data"
    },
    {
     "data": {
      "text/plain": [
       "<function __main__.plot_aio_energy_efficiency(core_dpower, core_spower, mem_dpower, mem_spower)>"
      ]
     },
     "execution_count": 5,
     "metadata": {},
     "output_type": "execute_result"
    }
   ],
   "source": [
    "# Move the sliders to see how energy efficiency changes.\n",
    "interact(\n",
    "    plot_aio_energy_efficiency, \n",
    "    core_dpower = widgets.FloatSlider(value=0.5, min=0, max=2, step=0.1),\n",
    "    core_spower = widgets.FloatSlider(value=0.2, min=0, max=0.5, step=0.01),\n",
    "    mem_dpower = widgets.FloatSlider(value=0.001, min=0, max=0.01, step=0.0001),\n",
    "    mem_spower = widgets.FloatSlider(value=2, min=0, max=10, step=0.1)  \n",
    ")"
   ]
  },
  {
   "cell_type": "code",
   "execution_count": null,
   "metadata": {},
   "outputs": [],
   "source": []
  }
 ],
 "metadata": {
  "kernelspec": {
   "display_name": "accme_examples",
   "language": "python",
   "name": "python3"
  },
  "language_info": {
   "codemirror_mode": {
    "name": "ipython",
    "version": 3
   },
   "file_extension": ".py",
   "mimetype": "text/x-python",
   "name": "python",
   "nbconvert_exporter": "python",
   "pygments_lexer": "ipython3",
   "version": "3.12.4"
  }
 },
 "nbformat": 4,
 "nbformat_minor": 2
}
