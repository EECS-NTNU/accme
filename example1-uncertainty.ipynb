{
 "cells": [
  {
   "cell_type": "code",
   "execution_count": 1,
   "metadata": {},
   "outputs": [],
   "source": [
    "from custom_functions import *"
   ]
  },
  {
   "cell_type": "markdown",
   "metadata": {},
   "source": [
    "## Choosing the best Accelerator for Matrix Decomposition"
   ]
  },
  {
   "cell_type": "code",
   "execution_count": 2,
   "metadata": {},
   "outputs": [],
   "source": [
    "dsa_accme_df = pd.read_csv('./data/cholesky/accme_dsa_parameters.csv')\n",
    "scm_accme_df = pd.read_csv('./data/cholesky/accme_scm_parameters.csv')\n",
    "ambit_accme_df = pd.read_csv('./data/cholesky/accme_ambit_parameters.csv')\n",
    "upmem_accme_df = pd.read_csv('./data/cholesky/accme_upmem_parameters.csv')"
   ]
  },
  {
   "cell_type": "code",
   "execution_count": 3,
   "metadata": {},
   "outputs": [],
   "source": [
    "dsa_accme_df = generate_accme_cycles_column(dsa_accme_df)\n",
    "scm_accme_df = generate_accme_cycles_column(scm_accme_df)\n",
    "ambit_accme_df = generate_accme_cycles_column(ambit_accme_df)\n",
    "upmem_accme_df = generate_accme_cycles_column(upmem_accme_df)\n",
    "accme_dfs = [dsa_accme_df,scm_accme_df,ambit_accme_df,upmem_accme_df]"
   ]
  },
  {
   "cell_type": "markdown",
   "metadata": {},
   "source": [
    "## Graph  AIO Uncertainty"
   ]
  },
  {
   "cell_type": "code",
   "execution_count": 4,
   "metadata": {},
   "outputs": [
    {
     "data": {
      "application/vnd.plotly.v1+json": {
       "config": {
        "plotlyServerURL": "https://plot.ly"
       },
       "data": [
        {
         "fill": "none",
         "line": {
          "color": "blue",
          "dash": "dash",
          "width": 2
         },
         "mode": "lines",
         "name": "DSA",
         "opacity": 0.8,
         "showlegend": false,
         "type": "scatter",
         "x": [
          16,
          24,
          32,
          48,
          64,
          96,
          128,
          192,
          256,
          384,
          512
         ],
         "y": [
          30510090.5768314,
          17367183.259965025,
          13757523.645743765,
          8329477.093937992,
          5727368.319002483,
          3276525.0631413683,
          2153939.353145088,
          1152373.3689715466,
          721992.303919276,
          362179.6423601789,
          217762.43989203748
         ]
        },
        {
         "fill": "tonexty",
         "fillcolor": "rgba(0, 0, 255, 0.2)",
         "line": {
          "color": "blue",
          "dash": "dash",
          "width": 2
         },
         "mode": "lines",
         "name": "DSA±10X AIO Latency",
         "opacity": 0.8,
         "type": "scatter",
         "x": [
          16,
          24,
          32,
          48,
          64,
          96,
          128,
          192,
          256,
          384,
          512
         ],
         "y": [
          305100.905768314,
          173671.83259965025,
          137575.23645743766,
          83294.77093937992,
          57273.68319002483,
          32765.250631413684,
          21539.393531450878,
          11523.733689715467,
          7219.92303919276,
          3621.7964236017892,
          2177.624398920375
         ]
        },
        {
         "fill": "none",
         "line": {
          "color": "blue",
          "width": 2
         },
         "mode": "lines",
         "name": "DSA",
         "opacity": 0.8,
         "showlegend": false,
         "type": "scatter",
         "x": [
          16,
          24,
          32,
          48,
          64,
          96,
          128,
          192,
          256,
          384,
          512
         ],
         "y": [
          3051009.05768314,
          1736718.3259965025,
          1375752.3645743765,
          832947.7093937992,
          572736.8319002483,
          327652.50631413684,
          215393.9353145088,
          115237.33689715467,
          72199.2303919276,
          36217.96423601789,
          21776.243989203747
         ]
        },
        {
         "fill": "none",
         "line": {
          "color": "green",
          "dash": "dash",
          "width": 2
         },
         "mode": "lines",
         "name": "DSA",
         "opacity": 0.8,
         "showlegend": false,
         "type": "scatter",
         "x": [
          16,
          24,
          32,
          48,
          64,
          96,
          128,
          192,
          256,
          384,
          512
         ],
         "y": [
          8823448.313894175,
          5711497.959329374,
          4438341.724573156,
          2890277.8279562127,
          2102769.5775240217,
          1315569.0401382172,
          926814.928092195,
          549522.2590860071,
          370838.3176803832,
          205791.44280594916,
          132100.28041896637
         ]
        },
        {
         "fill": "tonexty",
         "fillcolor": "rgba(0, 0, 255, 0.2)",
         "line": {
          "color": "green",
          "dash": "dash",
          "width": 2
         },
         "mode": "lines",
         "name": "SCM±10X AIO Latency",
         "opacity": 0.8,
         "type": "scatter",
         "x": [
          16,
          24,
          32,
          48,
          64,
          96,
          128,
          192,
          256,
          384,
          512
         ],
         "y": [
          88234.48313894174,
          57114.97959329374,
          44383.41724573156,
          28902.778279562124,
          21027.695775240216,
          13155.690401382171,
          9268.149280921949,
          5495.222590860071,
          3708.3831768038317,
          2057.9144280594915,
          1321.0028041896635
         ]
        },
        {
         "fill": "none",
         "line": {
          "color": "green",
          "width": 2
         },
         "mode": "lines",
         "name": "DSA",
         "opacity": 0.8,
         "showlegend": false,
         "type": "scatter",
         "x": [
          16,
          24,
          32,
          48,
          64,
          96,
          128,
          192,
          256,
          384,
          512
         ],
         "y": [
          882344.8313894174,
          571149.7959329374,
          443834.1724573156,
          289027.78279562126,
          210276.95775240217,
          131556.9040138217,
          92681.49280921949,
          54952.22590860071,
          37083.83176803832,
          20579.144280594915,
          13210.028041896636
         ]
        },
        {
         "fill": "none",
         "line": {
          "color": "red",
          "dash": "dash",
          "width": 2
         },
         "mode": "lines",
         "name": "DSA",
         "opacity": 0.8,
         "showlegend": false,
         "type": "scatter",
         "x": [
          16,
          24,
          32,
          48,
          64,
          96,
          128,
          192,
          256,
          384,
          512
         ],
         "y": [
          12930.043481311843,
          8603.332339469212,
          6448.382103449144,
          4297.124429981968,
          3222.4354143906558,
          2148.136403842215,
          1611.0777944092424,
          1074.0502755074378,
          805.5412602210059,
          537.0317196218853,
          402.77588818062213
         ]
        },
        {
         "fill": "tonexty",
         "fillcolor": "rgba(255, 0, 0, 0.2)",
         "line": {
          "color": "red",
          "dash": "dash",
          "width": 2
         },
         "mode": "lines",
         "name": "AMBIT±10X AIO Latency",
         "opacity": 0.8,
         "type": "scatter",
         "x": [
          16,
          24,
          32,
          48,
          64,
          96,
          128,
          192,
          256,
          384,
          512
         ],
         "y": [
          129.30043481311844,
          86.03332339469213,
          64.48382103449144,
          42.97124429981968,
          32.22435414390655,
          21.48136403842215,
          16.110777944092426,
          10.740502755074377,
          8.055412602210058,
          5.370317196218852,
          4.027758881806221
         ]
        },
        {
         "fill": "none",
         "line": {
          "color": "red",
          "width": 2
         },
         "mode": "lines",
         "name": "DSA",
         "opacity": 0.8,
         "showlegend": false,
         "type": "scatter",
         "x": [
          16,
          24,
          32,
          48,
          64,
          96,
          128,
          192,
          256,
          384,
          512
         ],
         "y": [
          1293.0043481311843,
          860.3332339469213,
          644.8382103449144,
          429.7124429981968,
          322.24354143906555,
          214.8136403842215,
          161.10777944092425,
          107.40502755074378,
          80.55412602210059,
          53.70317196218852,
          40.27758881806221
         ]
        },
        {
         "fill": "none",
         "line": {
          "color": "orange",
          "dash": "dash",
          "width": 2
         },
         "mode": "lines",
         "name": "DSA",
         "opacity": 0.8,
         "showlegend": false,
         "type": "scatter",
         "x": [
          16,
          24,
          32,
          48,
          64,
          96,
          128,
          192,
          256,
          384,
          512
         ],
         "y": [
          18897637.79527559,
          17126546.146527115,
          17454545.454545453,
          12521739.130434783,
          11442193.087008342,
          8112676.0574806575,
          5333629.64609145,
          2799650.043880609,
          1004525.5970910612,
          471708.15678399865,
          272886.3918520672
         ]
        },
        {
         "fill": "tonexty",
         "fillcolor": "rgba(250, 200, 0, 0.2)",
         "line": {
          "color": "orange",
          "dash": "dash",
          "width": 2
         },
         "mode": "lines",
         "name": "UPMEM±10X AIO Latency",
         "opacity": 0.8,
         "type": "scatter",
         "x": [
          16,
          24,
          32,
          48,
          64,
          96,
          128,
          192,
          256,
          384,
          512
         ],
         "y": [
          188976.37795275592,
          171265.46146527116,
          174545.45454545453,
          125217.39130434782,
          114421.93087008342,
          81126.76057480657,
          53336.2964609145,
          27996.500438806088,
          10045.255970910612,
          4717.081567839987,
          2728.8639185206716
         ]
        },
        {
         "fill": "none",
         "line": {
          "color": "orange",
          "width": 2
         },
         "mode": "lines",
         "name": "DSA",
         "opacity": 0.8,
         "showlegend": false,
         "type": "scatter",
         "x": [
          16,
          24,
          32,
          48,
          64,
          96,
          128,
          192,
          256,
          384,
          512
         ],
         "y": [
          1889763.7795275592,
          1712654.6146527117,
          1745454.5454545454,
          1252173.9130434783,
          1144219.3087008342,
          811267.6057480657,
          533362.964609145,
          279965.0043880609,
          100452.55970910612,
          47170.815678399864,
          27288.639185206717
         ]
        }
       ],
       "layout": {
        "annotations": [
         {
          "font": {
           "size": 24
          },
          "showarrow": false,
          "text": "Matrix Size",
          "x": 0.5,
          "xref": "paper",
          "y": -0.35,
          "yref": "paper"
         },
         {
          "font": {
           "size": 24
          },
          "showarrow": false,
          "text": "AIOs / Sec",
          "textangle": -90,
          "x": -0.17,
          "xref": "paper",
          "y": 0.5,
          "yref": "paper"
         }
        ],
        "autosize": false,
        "height": 380,
        "legend": {
         "entrywidth": 200,
         "font": {
          "size": 18
         },
         "itemwidth": 30,
         "orientation": "h",
         "traceorder": "normal",
         "x": -0.05,
         "xanchor": "left",
         "y": 1.02,
         "yanchor": "bottom"
        },
        "template": {
         "data": {
          "bar": [
           {
            "error_x": {
             "color": "#2a3f5f"
            },
            "error_y": {
             "color": "#2a3f5f"
            },
            "marker": {
             "line": {
              "color": "#E5ECF6",
              "width": 0.5
             },
             "pattern": {
              "fillmode": "overlay",
              "size": 10,
              "solidity": 0.2
             }
            },
            "type": "bar"
           }
          ],
          "barpolar": [
           {
            "marker": {
             "line": {
              "color": "#E5ECF6",
              "width": 0.5
             },
             "pattern": {
              "fillmode": "overlay",
              "size": 10,
              "solidity": 0.2
             }
            },
            "type": "barpolar"
           }
          ],
          "carpet": [
           {
            "aaxis": {
             "endlinecolor": "#2a3f5f",
             "gridcolor": "white",
             "linecolor": "white",
             "minorgridcolor": "white",
             "startlinecolor": "#2a3f5f"
            },
            "baxis": {
             "endlinecolor": "#2a3f5f",
             "gridcolor": "white",
             "linecolor": "white",
             "minorgridcolor": "white",
             "startlinecolor": "#2a3f5f"
            },
            "type": "carpet"
           }
          ],
          "choropleth": [
           {
            "colorbar": {
             "outlinewidth": 0,
             "ticks": ""
            },
            "type": "choropleth"
           }
          ],
          "contour": [
           {
            "colorbar": {
             "outlinewidth": 0,
             "ticks": ""
            },
            "colorscale": [
             [
              0,
              "#0d0887"
             ],
             [
              0.1111111111111111,
              "#46039f"
             ],
             [
              0.2222222222222222,
              "#7201a8"
             ],
             [
              0.3333333333333333,
              "#9c179e"
             ],
             [
              0.4444444444444444,
              "#bd3786"
             ],
             [
              0.5555555555555556,
              "#d8576b"
             ],
             [
              0.6666666666666666,
              "#ed7953"
             ],
             [
              0.7777777777777778,
              "#fb9f3a"
             ],
             [
              0.8888888888888888,
              "#fdca26"
             ],
             [
              1,
              "#f0f921"
             ]
            ],
            "type": "contour"
           }
          ],
          "contourcarpet": [
           {
            "colorbar": {
             "outlinewidth": 0,
             "ticks": ""
            },
            "type": "contourcarpet"
           }
          ],
          "heatmap": [
           {
            "colorbar": {
             "outlinewidth": 0,
             "ticks": ""
            },
            "colorscale": [
             [
              0,
              "#0d0887"
             ],
             [
              0.1111111111111111,
              "#46039f"
             ],
             [
              0.2222222222222222,
              "#7201a8"
             ],
             [
              0.3333333333333333,
              "#9c179e"
             ],
             [
              0.4444444444444444,
              "#bd3786"
             ],
             [
              0.5555555555555556,
              "#d8576b"
             ],
             [
              0.6666666666666666,
              "#ed7953"
             ],
             [
              0.7777777777777778,
              "#fb9f3a"
             ],
             [
              0.8888888888888888,
              "#fdca26"
             ],
             [
              1,
              "#f0f921"
             ]
            ],
            "type": "heatmap"
           }
          ],
          "heatmapgl": [
           {
            "colorbar": {
             "outlinewidth": 0,
             "ticks": ""
            },
            "colorscale": [
             [
              0,
              "#0d0887"
             ],
             [
              0.1111111111111111,
              "#46039f"
             ],
             [
              0.2222222222222222,
              "#7201a8"
             ],
             [
              0.3333333333333333,
              "#9c179e"
             ],
             [
              0.4444444444444444,
              "#bd3786"
             ],
             [
              0.5555555555555556,
              "#d8576b"
             ],
             [
              0.6666666666666666,
              "#ed7953"
             ],
             [
              0.7777777777777778,
              "#fb9f3a"
             ],
             [
              0.8888888888888888,
              "#fdca26"
             ],
             [
              1,
              "#f0f921"
             ]
            ],
            "type": "heatmapgl"
           }
          ],
          "histogram": [
           {
            "marker": {
             "pattern": {
              "fillmode": "overlay",
              "size": 10,
              "solidity": 0.2
             }
            },
            "type": "histogram"
           }
          ],
          "histogram2d": [
           {
            "colorbar": {
             "outlinewidth": 0,
             "ticks": ""
            },
            "colorscale": [
             [
              0,
              "#0d0887"
             ],
             [
              0.1111111111111111,
              "#46039f"
             ],
             [
              0.2222222222222222,
              "#7201a8"
             ],
             [
              0.3333333333333333,
              "#9c179e"
             ],
             [
              0.4444444444444444,
              "#bd3786"
             ],
             [
              0.5555555555555556,
              "#d8576b"
             ],
             [
              0.6666666666666666,
              "#ed7953"
             ],
             [
              0.7777777777777778,
              "#fb9f3a"
             ],
             [
              0.8888888888888888,
              "#fdca26"
             ],
             [
              1,
              "#f0f921"
             ]
            ],
            "type": "histogram2d"
           }
          ],
          "histogram2dcontour": [
           {
            "colorbar": {
             "outlinewidth": 0,
             "ticks": ""
            },
            "colorscale": [
             [
              0,
              "#0d0887"
             ],
             [
              0.1111111111111111,
              "#46039f"
             ],
             [
              0.2222222222222222,
              "#7201a8"
             ],
             [
              0.3333333333333333,
              "#9c179e"
             ],
             [
              0.4444444444444444,
              "#bd3786"
             ],
             [
              0.5555555555555556,
              "#d8576b"
             ],
             [
              0.6666666666666666,
              "#ed7953"
             ],
             [
              0.7777777777777778,
              "#fb9f3a"
             ],
             [
              0.8888888888888888,
              "#fdca26"
             ],
             [
              1,
              "#f0f921"
             ]
            ],
            "type": "histogram2dcontour"
           }
          ],
          "mesh3d": [
           {
            "colorbar": {
             "outlinewidth": 0,
             "ticks": ""
            },
            "type": "mesh3d"
           }
          ],
          "parcoords": [
           {
            "line": {
             "colorbar": {
              "outlinewidth": 0,
              "ticks": ""
             }
            },
            "type": "parcoords"
           }
          ],
          "pie": [
           {
            "automargin": true,
            "type": "pie"
           }
          ],
          "scatter": [
           {
            "fillpattern": {
             "fillmode": "overlay",
             "size": 10,
             "solidity": 0.2
            },
            "type": "scatter"
           }
          ],
          "scatter3d": [
           {
            "line": {
             "colorbar": {
              "outlinewidth": 0,
              "ticks": ""
             }
            },
            "marker": {
             "colorbar": {
              "outlinewidth": 0,
              "ticks": ""
             }
            },
            "type": "scatter3d"
           }
          ],
          "scattercarpet": [
           {
            "marker": {
             "colorbar": {
              "outlinewidth": 0,
              "ticks": ""
             }
            },
            "type": "scattercarpet"
           }
          ],
          "scattergeo": [
           {
            "marker": {
             "colorbar": {
              "outlinewidth": 0,
              "ticks": ""
             }
            },
            "type": "scattergeo"
           }
          ],
          "scattergl": [
           {
            "marker": {
             "colorbar": {
              "outlinewidth": 0,
              "ticks": ""
             }
            },
            "type": "scattergl"
           }
          ],
          "scattermapbox": [
           {
            "marker": {
             "colorbar": {
              "outlinewidth": 0,
              "ticks": ""
             }
            },
            "type": "scattermapbox"
           }
          ],
          "scatterpolar": [
           {
            "marker": {
             "colorbar": {
              "outlinewidth": 0,
              "ticks": ""
             }
            },
            "type": "scatterpolar"
           }
          ],
          "scatterpolargl": [
           {
            "marker": {
             "colorbar": {
              "outlinewidth": 0,
              "ticks": ""
             }
            },
            "type": "scatterpolargl"
           }
          ],
          "scatterternary": [
           {
            "marker": {
             "colorbar": {
              "outlinewidth": 0,
              "ticks": ""
             }
            },
            "type": "scatterternary"
           }
          ],
          "surface": [
           {
            "colorbar": {
             "outlinewidth": 0,
             "ticks": ""
            },
            "colorscale": [
             [
              0,
              "#0d0887"
             ],
             [
              0.1111111111111111,
              "#46039f"
             ],
             [
              0.2222222222222222,
              "#7201a8"
             ],
             [
              0.3333333333333333,
              "#9c179e"
             ],
             [
              0.4444444444444444,
              "#bd3786"
             ],
             [
              0.5555555555555556,
              "#d8576b"
             ],
             [
              0.6666666666666666,
              "#ed7953"
             ],
             [
              0.7777777777777778,
              "#fb9f3a"
             ],
             [
              0.8888888888888888,
              "#fdca26"
             ],
             [
              1,
              "#f0f921"
             ]
            ],
            "type": "surface"
           }
          ],
          "table": [
           {
            "cells": {
             "fill": {
              "color": "#EBF0F8"
             },
             "line": {
              "color": "white"
             }
            },
            "header": {
             "fill": {
              "color": "#C8D4E3"
             },
             "line": {
              "color": "white"
             }
            },
            "type": "table"
           }
          ]
         },
         "layout": {
          "annotationdefaults": {
           "arrowcolor": "#2a3f5f",
           "arrowhead": 0,
           "arrowwidth": 1
          },
          "autotypenumbers": "strict",
          "coloraxis": {
           "colorbar": {
            "outlinewidth": 0,
            "ticks": ""
           }
          },
          "colorscale": {
           "diverging": [
            [
             0,
             "#8e0152"
            ],
            [
             0.1,
             "#c51b7d"
            ],
            [
             0.2,
             "#de77ae"
            ],
            [
             0.3,
             "#f1b6da"
            ],
            [
             0.4,
             "#fde0ef"
            ],
            [
             0.5,
             "#f7f7f7"
            ],
            [
             0.6,
             "#e6f5d0"
            ],
            [
             0.7,
             "#b8e186"
            ],
            [
             0.8,
             "#7fbc41"
            ],
            [
             0.9,
             "#4d9221"
            ],
            [
             1,
             "#276419"
            ]
           ],
           "sequential": [
            [
             0,
             "#0d0887"
            ],
            [
             0.1111111111111111,
             "#46039f"
            ],
            [
             0.2222222222222222,
             "#7201a8"
            ],
            [
             0.3333333333333333,
             "#9c179e"
            ],
            [
             0.4444444444444444,
             "#bd3786"
            ],
            [
             0.5555555555555556,
             "#d8576b"
            ],
            [
             0.6666666666666666,
             "#ed7953"
            ],
            [
             0.7777777777777778,
             "#fb9f3a"
            ],
            [
             0.8888888888888888,
             "#fdca26"
            ],
            [
             1,
             "#f0f921"
            ]
           ],
           "sequentialminus": [
            [
             0,
             "#0d0887"
            ],
            [
             0.1111111111111111,
             "#46039f"
            ],
            [
             0.2222222222222222,
             "#7201a8"
            ],
            [
             0.3333333333333333,
             "#9c179e"
            ],
            [
             0.4444444444444444,
             "#bd3786"
            ],
            [
             0.5555555555555556,
             "#d8576b"
            ],
            [
             0.6666666666666666,
             "#ed7953"
            ],
            [
             0.7777777777777778,
             "#fb9f3a"
            ],
            [
             0.8888888888888888,
             "#fdca26"
            ],
            [
             1,
             "#f0f921"
            ]
           ]
          },
          "colorway": [
           "#636efa",
           "#EF553B",
           "#00cc96",
           "#ab63fa",
           "#FFA15A",
           "#19d3f3",
           "#FF6692",
           "#B6E880",
           "#FF97FF",
           "#FECB52"
          ],
          "font": {
           "color": "#2a3f5f"
          },
          "geo": {
           "bgcolor": "white",
           "lakecolor": "white",
           "landcolor": "#E5ECF6",
           "showlakes": true,
           "showland": true,
           "subunitcolor": "white"
          },
          "hoverlabel": {
           "align": "left"
          },
          "hovermode": "closest",
          "mapbox": {
           "style": "light"
          },
          "paper_bgcolor": "white",
          "plot_bgcolor": "#E5ECF6",
          "polar": {
           "angularaxis": {
            "gridcolor": "white",
            "linecolor": "white",
            "ticks": ""
           },
           "bgcolor": "#E5ECF6",
           "radialaxis": {
            "gridcolor": "white",
            "linecolor": "white",
            "ticks": ""
           }
          },
          "scene": {
           "xaxis": {
            "backgroundcolor": "#E5ECF6",
            "gridcolor": "white",
            "gridwidth": 2,
            "linecolor": "white",
            "showbackground": true,
            "ticks": "",
            "zerolinecolor": "white"
           },
           "yaxis": {
            "backgroundcolor": "#E5ECF6",
            "gridcolor": "white",
            "gridwidth": 2,
            "linecolor": "white",
            "showbackground": true,
            "ticks": "",
            "zerolinecolor": "white"
           },
           "zaxis": {
            "backgroundcolor": "#E5ECF6",
            "gridcolor": "white",
            "gridwidth": 2,
            "linecolor": "white",
            "showbackground": true,
            "ticks": "",
            "zerolinecolor": "white"
           }
          },
          "shapedefaults": {
           "line": {
            "color": "#2a3f5f"
           }
          },
          "ternary": {
           "aaxis": {
            "gridcolor": "white",
            "linecolor": "white",
            "ticks": ""
           },
           "baxis": {
            "gridcolor": "white",
            "linecolor": "white",
            "ticks": ""
           },
           "bgcolor": "#E5ECF6",
           "caxis": {
            "gridcolor": "white",
            "linecolor": "white",
            "ticks": ""
           }
          },
          "title": {
           "x": 0.05
          },
          "xaxis": {
           "automargin": true,
           "gridcolor": "white",
           "linecolor": "white",
           "ticks": "",
           "title": {
            "standoff": 15
           },
           "zerolinecolor": "white",
           "zerolinewidth": 2
          },
          "yaxis": {
           "automargin": true,
           "gridcolor": "white",
           "linecolor": "white",
           "ticks": "",
           "title": {
            "standoff": 15
           },
           "zerolinecolor": "white",
           "zerolinewidth": 2
          }
         }
        },
        "width": 600,
        "xaxis": {
         "tickfont": {
          "size": 16
         },
         "tickvals": [
          1,
          2,
          4,
          8,
          16,
          32,
          64,
          128,
          256,
          512,
          1024,
          2048
         ],
         "type": "log"
        },
        "yaxis": {
         "dtick": 1,
         "tickfont": {
          "size": 16
         },
         "type": "log"
        }
       }
      }
     },
     "metadata": {},
     "output_type": "display_data"
    }
   ],
   "source": [
    "# Accelerator clock frequencies (Hz)\n",
    "dsa_frequency = 1200000000\n",
    "scm_frequency = 1000000000\n",
    "ambit_frequency = 1200000000\n",
    "upmem_frequency = 300000000\n",
    "aio_uncertainty=10 # Uncertainty in either direction from the \"True\" value.\n",
    "\n",
    "graph_cholesky_comparison(input_dfs=accme_dfs, frequencies=[dsa_frequency,scm_frequency,ambit_frequency,upmem_frequency], aio_uncertainty=aio_uncertainty)"
   ]
  },
  {
   "cell_type": "code",
   "execution_count": null,
   "metadata": {},
   "outputs": [],
   "source": []
  }
 ],
 "metadata": {
  "kernelspec": {
   "display_name": "accme",
   "language": "python",
   "name": "python3"
  },
  "language_info": {
   "codemirror_mode": {
    "name": "ipython",
    "version": 3
   },
   "file_extension": ".py",
   "mimetype": "text/x-python",
   "name": "python",
   "nbconvert_exporter": "python",
   "pygments_lexer": "ipython3",
   "version": "3.12.4"
  }
 },
 "nbformat": 4,
 "nbformat_minor": 2
}
