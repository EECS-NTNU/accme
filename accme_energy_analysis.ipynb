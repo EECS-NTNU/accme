{
 "cells": [
  {
   "cell_type": "code",
   "execution_count": 1,
   "metadata": {},
   "outputs": [],
   "source": [
    "import numpy as np\n",
    "import pandas as pd\n",
    "\n",
    "from ipywidgets import interact, interactive, fixed, interact_manual\n",
    "import ipywidgets as widgets\n",
    "import matplotlib.pyplot as plt\n",
    "import matplotlib.patheffects as pe\n",
    "import matplotlib\n",
    "%matplotlib inline\n",
    "\n",
    "from custom_functions import *"
   ]
  },
  {
   "cell_type": "code",
   "execution_count": 2,
   "metadata": {},
   "outputs": [],
   "source": [
    "dsa_accme_df = pd.read_csv('./data/energy_analysis/dsa_conv_accme_parameters.csv')\n",
    "dsa_accme_df = generate_accme_cycles_column(dsa_accme_df)"
   ]
  },
  {
   "cell_type": "code",
   "execution_count": 3,
   "metadata": {},
   "outputs": [],
   "source": [
    "def accme_ee_cycles(df, cores, config_choice):\n",
    "\n",
    "    df['Mem Overlap'] = 1 # Set mem overlap so that AccMe returns full mem cycles (Assume non are hidden) \n",
    "    df['Cores'] = cores\n",
    "    df = generate_accme_cycles_column(df)\n",
    "    compute_cycles = df['AccMe Cycles'][config_choice][0]\n",
    "    memory_cycles = df['AccMe Cycles'][config_choice][1] # Independent of whether or not they are hidden.\n",
    "\n",
    "    return compute_cycles, memory_cycles"
   ]
  },
  {
   "cell_type": "code",
   "execution_count": 4,
   "metadata": {},
   "outputs": [],
   "source": [
    "def get_accme_ee_range(df, cores_array, frequency, core_dpower, core_spower, mem_dpower, mem_spower, config_choice):\n",
    "    \n",
    "    aios_per_joule_array = []\n",
    "    \n",
    "    for i in range(len(cores_array)):\n",
    "        cores = cores_array[i]\n",
    "        compute_cycles, memory_cycles = accme_ee_cycles(df, cores_array[i], config_choice)\n",
    "        time = max(compute_cycles,memory_cycles) / frequency        \n",
    "\n",
    "        # Caculate compute static energy\n",
    "        compute_static_energy = time * core_spower * cores_array[i]\n",
    "        \n",
    "        # See if cores are bottlenecked by memory\n",
    "        core_scaler = compute_cycles / memory_cycles\n",
    "        effective_cores = cores_array[i] * core_scaler\n",
    "        if effective_cores < cores_array[i]:\n",
    "            cores = effective_cores\n",
    "        \n",
    "        # Calculate compute dynamic energy\n",
    "        compute_dynamic_energy = time * core_dpower * cores\n",
    "        # Memory static energy\n",
    "        memory_static_energy = time * mem_spower\n",
    "\n",
    "        # Memory dynamic energy\n",
    "        memory_dynamic_energy = df['Ext Data Movement'][config_choice] * mem_dpower\n",
    "        \n",
    "        # AIO efficiency\n",
    "        total_energy = compute_static_energy + compute_dynamic_energy + memory_static_energy + memory_dynamic_energy\n",
    "        aios_per_joule = df['Image Pixels'][config_choice] / total_energy\n",
    "        aios_per_joule = df['Num AIOs'][config_choice] / total_energy\n",
    "        aios_per_joule_array.append(aios_per_joule)\n",
    "    \n",
    "    return aios_per_joule_array"
   ]
  },
  {
   "cell_type": "code",
   "execution_count": 6,
   "metadata": {},
   "outputs": [
    {
     "data": {
      "application/vnd.jupyter.widget-view+json": {
       "model_id": "5686a42790bc468b925efc4d2dc7fa20",
       "version_major": 2,
       "version_minor": 0
      },
      "text/plain": [
       "interactive(children=(FloatSlider(value=0.5, description='core_dpower', max=2.0), FloatSlider(value=0.2, descr…"
      ]
     },
     "metadata": {},
     "output_type": "display_data"
    },
    {
     "data": {
      "text/plain": [
       "<function __main__.plot_aio_energy_efficiency(core_dpower, core_spower, mem_dpower, mem_spower)>"
      ]
     },
     "execution_count": 6,
     "metadata": {},
     "output_type": "execute_result"
    }
   ],
   "source": [
    "def plot_aio_energy_efficiency(core_dpower, core_spower, mem_dpower, mem_spower):\n",
    "    \n",
    "    linewidth = 4\n",
    "    accme_alpha = 0.6\n",
    "\n",
    "    # Figure properties\n",
    "    fig, (ax1) = plt.subplots(1, 1)\n",
    "    \n",
    "    frequency_scaling = 1000000\n",
    "    core_min = 1\n",
    "    core_max = 128\n",
    "    cores_array = np.linspace(core_min,core_max,core_max)\n",
    "    x = cores_array\n",
    "\n",
    "    config_choices = [20,21,22,23]\n",
    "    for i in range(len(config_choices)):\n",
    "        y = get_accme_ee_range(dsa_accme_df, cores_array, 1200, core_dpower, core_spower, mem_dpower, mem_spower, config_choices[i])\n",
    "        ax1.plot(x, np.asarray(y)/frequency_scaling, linestyle='-', linewidth=linewidth, alpha=accme_alpha)\n",
    "\n",
    "    x_fontsize = 16\n",
    "    y_fontsize = 16\n",
    "    titlesize = 16\n",
    "    tick_size = 16\n",
    "    #legendsize = 16\n",
    "    subtitle_offset = -0.55\n",
    "    \n",
    "    fig.set_figwidth(5)\n",
    "    fig.set_figheight(3)\n",
    "    ax1.set_xlabel('Core Count', fontsize = x_fontsize) # X label\n",
    "    ax1.set_ylabel('AIOs/ Joule', fontsize = y_fontsize) # X label\n",
    "    ax1.tick_params(axis='both', which='major', labelsize=tick_size)\n",
    "    ax1.set_title(\"Convolution\", fontsize = titlesize , y=subtitle_offset, fontweight=\"bold\")\n",
    "    ax1.yaxis.offsetText.set_size(tick_size)\n",
    "    \n",
    "    ax1.grid()\n",
    "    plt.show()\n",
    "\n",
    "interact(\n",
    "    plot_aio_energy_efficiency, \n",
    "    core_dpower = widgets.FloatSlider(value=0.5, min=0, max=2, step=0.1),\n",
    "    core_spower = widgets.FloatSlider(value=0.2, min=0, max=0.5, step=0.01),\n",
    "    mem_dpower = widgets.FloatSlider(value=0.001, min=0, max=0.01, step=0.0001),\n",
    "    mem_spower = widgets.FloatSlider(value=2, min=0, max=10, step=0.1)  \n",
    ")"
   ]
  },
  {
   "cell_type": "code",
   "execution_count": null,
   "metadata": {},
   "outputs": [],
   "source": []
  }
 ],
 "metadata": {
  "kernelspec": {
   "display_name": "accme_examples",
   "language": "python",
   "name": "python3"
  },
  "language_info": {
   "codemirror_mode": {
    "name": "ipython",
    "version": 3
   },
   "file_extension": ".py",
   "mimetype": "text/x-python",
   "name": "python",
   "nbconvert_exporter": "python",
   "pygments_lexer": "ipython3",
   "version": "3.12.3"
  }
 },
 "nbformat": 4,
 "nbformat_minor": 2
}
